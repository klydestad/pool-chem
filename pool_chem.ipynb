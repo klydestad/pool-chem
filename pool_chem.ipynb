{
 "cells": [
  {
   "cell_type": "code",
   "execution_count": null,
   "metadata": {},
   "outputs": [],
   "source": [
    "# Import reader module from csv Library\n",
    "from csv import reader\n",
    "\n",
    "# read the CSV file\n",
    "def load_csv(filename):\n",
    "    # Open file in read mode\n",
    "    file = open(filename,\"r\")\n",
    "    # Reading file \n",
    "    lines = reader(file)\n",
    "    \n",
    "    # Converting into a list \n",
    "    data = list(lines)\n",
    "    return data\n",
    "\n",
    "if __name__ == \"__main__\":\n",
    "    # Path of the dataset\n",
    "    file_path = \"iris.csv\"\n",
    "    data = load_csv(file_path)"
   ]
  }
 ],
 "metadata": {
  "kernelspec": {
   "display_name": "Python 3",
   "language": "python",
   "name": "python3"
  },
  "language_info": {
   "codemirror_mode": {
    "name": "ipython",
    "version": 3
   },
   "file_extension": ".py",
   "mimetype": "text/x-python",
   "name": "python",
   "nbconvert_exporter": "python",
   "pygments_lexer": "ipython3",
   "version": "3.9.6"
  },
  "orig_nbformat": 4
 },
 "nbformat": 4,
 "nbformat_minor": 2
}
