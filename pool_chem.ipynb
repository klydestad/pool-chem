{
 "cells": [
  {
   "attachments": {},
   "cell_type": "markdown",
   "metadata": {},
   "source": [
    "# IMPORTING DATA"
   ]
  },
  {
   "cell_type": "code",
   "execution_count": 9,
   "metadata": {},
   "outputs": [
    {
     "name": "stdout",
     "output_type": "stream",
     "text": [
      "[['\\ufeffDay', '9AM', '1PM'], ['1', '2.8', '1.6'], ['2', '3.1', '2.1'], ['3', '3.0', '0.4'], ['4', '1.8', '0.9'], ['5', '1.2', '0.1'], ['6', '2.0', '0.7'], ['7', '1.8', '0.2'], ['8', '1.9', '1.1'], ['9', '3.0', '0.6'], ['10', '1.5', '1.8'], ['11', '1.5', '1.0'], ['12', '2.1', '2.5'], ['13', '1.6', '0.3'], ['14', '1.7', '0.7'], ['15', '2.6', '1.8'], ['16', '2.9', '1.6'], ['17', '2.9', '0.7'], ['18', '2.4', '0.7'], ['19', '1.4', '1.4'], ['20', '1.3', '1.5'], ['21', '2.9', '1.8'], ['22', '2.8', '2.0'], ['23', '1.4', '3.0'], ['24', '1.0', '0.0'], ['25', '2.6', '0.2'], ['26', '2.8', '1.4'], ['27', '1.7', '2.1'], ['28', '1.1', '1.3'], ['29', '3.0', '0.7'], ['30', '1.1', '0.7'], ['31', '1.5', '0.1'], ['32', '1.7', '0.7'], ['33', '1.7', '0.2'], ['34', '2.0', '1.4'], ['35', '1.8', '1.0'], ['36', '2.3', '0.5'], ['37', '1.7', '0.7'], ['38', '2.9', '0.4'], ['39', '0.1', '0.9'], ['40', '2.2', '0.8'], ['41', '2.0', '1.2'], ['42', '1.2', '0.5'], ['43', '1.0', '0.9'], ['44', '1.5', '0.3'], ['45', '2.9', '1.5'], ['46', '2.5', '1.9'], ['47', '1.7', '0.7'], ['48', '3.0', '0.8'], ['49', '2.9', '2.7'], ['50', '2.4', '0.7'], ['51', '2.2', '1.1'], ['52', '1.9', '1.1'], ['53', '1.8', '0.2'], ['54', '1.2', '0.7'], ['55', '3.1', '2.0'], ['56', '2.8', '0.4'], ['57', '1.0', '0.1'], ['58', '1.7', '0.6'], ['59', '2.6', '1.7'], ['60', '2.7', '1.7'], ['61', '1.0', '1.4'], ['62', '1.7', '1.8'], ['63', '2.3', '0.6'], ['64', '1.4', '2.0'], ['65', '1.9', '1.6'], ['66', '3.0', '1.5'], ['67', '1.4', '0.1'], ['68', '2.8', '2.0'], ['69', '1.1', '0.5']]\n"
     ]
    }
   ],
   "source": [
    "# Import reader module from csv Library\n",
    "from csv import reader\n",
    "\n",
    "# read the CSV file\n",
    "def load_csv(filename):\n",
    "    # Open file in read mode\n",
    "    file = open(filename,\"r\")\n",
    "    # Reading file \n",
    "    lines = reader(file)\n",
    "    \n",
    "    # Converting into a list \n",
    "    data = list(lines)\n",
    "    return data\n",
    "\n",
    "if __name__ == \"__main__\":\n",
    "    # Path of the dataset\n",
    "    file_path = \"Pool_Chem_Analysis.csv\"\n",
    "    data = load_csv(file_path)\n",
    "    \n",
    "print(data)   "
   ]
  },
  {
   "attachments": {},
   "cell_type": "markdown",
   "metadata": {},
   "source": [
    "# DATA WRANGLING"
   ]
  },
  {
   "cell_type": "code",
   "execution_count": 10,
   "metadata": {},
   "outputs": [
    {
     "name": "stdout",
     "output_type": "stream",
     "text": [
      "   9AM_Cl2 1PM_Cl2\n",
      "0      3.1     2.1\n",
      "1      3.0     0.4\n",
      "2      1.8     0.9\n",
      "3      1.2     0.1\n",
      "4      2.0     0.7\n",
      "..     ...     ...\n",
      "63     1.9     1.6\n",
      "64     3.0     1.5\n",
      "65     1.4     0.1\n",
      "66     2.8     2.0\n",
      "67     1.1     0.5\n",
      "\n",
      "[68 rows x 2 columns]\n",
      "9AM_Cl2    float64\n",
      "1PM_Cl2    float64\n",
      "dtype: object\n"
     ]
    }
   ],
   "source": [
    "import pandas as pd\n",
    "df = pd.DataFrame(data)\n",
    "\n",
    "# Remove the first & second row\n",
    "df = df.drop(index=0)\n",
    "df = df.drop(index=1)\n",
    "\n",
    "# Remove the first column\n",
    "df = df.drop(df.columns[0], axis=1)\n",
    "\n",
    "# Reset index\n",
    "df = df.reset_index(drop=True)\n",
    "\n",
    "# Rename the columns\n",
    "df = df.rename(columns={1: '9AM_Cl2', 2: '1PM_Cl2'})\n",
    "print(df)\n",
    "\n",
    "# Change the data type of the 'Age' column to float\n",
    "df['9AM_Cl2'] = df['9AM_Cl2'].astype(float)\n",
    "df['1PM_Cl2'] = df['1PM_Cl2'].astype(float)\n",
    "\n",
    "\n",
    "# Inspect data types\n",
    "data_types = df.dtypes\n",
    "print(data_types)\n"
   ]
  },
  {
   "attachments": {},
   "cell_type": "markdown",
   "metadata": {},
   "source": [
    "# CREATING FUNCTION TO CHECK RANGES"
   ]
  },
  {
   "cell_type": "code",
   "execution_count": 11,
   "metadata": {},
   "outputs": [],
   "source": [
    "def check_range(data_frame, column, min_val, max_val):\n",
    "    \"\"\"\n",
    "    Checks if each entry in a specified column of a data frame is within a specified numerical range.\n",
    "\n",
    "    Parameters:\n",
    "        data_frame (pd.DataFrame): The input data frame.\n",
    "        column (str): The name of the column to check.\n",
    "        min_val (float): The minimum value of the range.\n",
    "        max_val (float): The maximum value of the range.\n",
    "\n",
    "    Returns:\n",
    "        pd.DataFrame: A new data frame with the original column and an additional column 'within_range'\n",
    "                      indicating if each entry in the specified column is within the specified range.\n",
    "    \"\"\"\n",
    "    within_range = (data_frame[column] >= min_val) & (data_frame[column] <= max_val)\n",
    "    data_frame['within_range'] = within_range\n",
    "    return data_frame\n",
    "\n",
    "\n",
    "# Example usage:\n",
    "# Specify the numerical range\n",
    "min_val = 0.5\n",
    "max_val = 4.0"
   ]
  },
  {
   "attachments": {},
   "cell_type": "markdown",
   "metadata": {},
   "source": [
    "# NOT WITHIN RANGE- 9AM Cl2 LEVELS"
   ]
  },
  {
   "cell_type": "code",
   "execution_count": 12,
   "metadata": {},
   "outputs": [
    {
     "name": "stdout",
     "output_type": "stream",
     "text": [
      "    9AM_Cl2  within_range\n",
      "0       3.1          True\n",
      "1       3.0          True\n",
      "2       1.8          True\n",
      "3       1.2          True\n",
      "4       2.0          True\n",
      "..      ...           ...\n",
      "63      1.9          True\n",
      "64      3.0          True\n",
      "65      1.4          True\n",
      "66      2.8          True\n",
      "67      1.1          True\n",
      "\n",
      "[68 rows x 2 columns]\n",
      "Filtered DataFrame for within_range=False:\n",
      "    9AM_Cl2  within_range\n",
      "37      0.1         False\n"
     ]
    }
   ],
   "source": [
    "# Show the original column values next to True/False values\n",
    "df_result_9AM = check_range(df, '9AM_Cl2', min_val, max_val)\n",
    "print(df_result_9AM[['9AM_Cl2', 'within_range']])\n",
    "\n",
    "# Filter rows where within_range is False, for Chlorine levels at 9am\n",
    "filtered_df_9AM = df[~df_result_9AM['within_range']]\n",
    "print(\"Filtered DataFrame for within_range=False:\")\n",
    "print(filtered_df_9AM[['9AM_Cl2', 'within_range']])"
   ]
  },
  {
   "attachments": {},
   "cell_type": "markdown",
   "metadata": {},
   "source": [
    "# NOT WITHIN RANGE- 1PM Cl2 LEVELS"
   ]
  },
  {
   "cell_type": "code",
   "execution_count": 13,
   "metadata": {},
   "outputs": [
    {
     "name": "stdout",
     "output_type": "stream",
     "text": [
      "    1PM_Cl2  within_range\n",
      "0       2.1          True\n",
      "1       0.4         False\n",
      "2       0.9          True\n",
      "3       0.1         False\n",
      "4       0.7          True\n",
      "..      ...           ...\n",
      "63      1.6          True\n",
      "64      1.5          True\n",
      "65      0.1         False\n",
      "66      2.0          True\n",
      "67      0.5          True\n",
      "\n",
      "[68 rows x 2 columns]\n",
      "Filtered DataFrame for within_range=False:\n",
      "    1PM_Cl2  within_range\n",
      "1       0.4         False\n",
      "3       0.1         False\n",
      "5       0.2         False\n",
      "11      0.3         False\n",
      "22      0.0         False\n",
      "23      0.2         False\n",
      "29      0.1         False\n",
      "31      0.2         False\n",
      "36      0.4         False\n",
      "42      0.3         False\n",
      "51      0.2         False\n",
      "54      0.4         False\n",
      "55      0.1         False\n",
      "65      0.1         False\n"
     ]
    }
   ],
   "source": [
    "# Show the original column values next to True/False values\n",
    "df_result_1PM = check_range(df, '1PM_Cl2', min_val, max_val)\n",
    "print(df_result_1PM[['1PM_Cl2', 'within_range']])\n",
    "\n",
    "# Filter rows where within_range is False, for Chlorine levels at 1pm\n",
    "filtered_df_1PM = df[~df_result_1PM['within_range']]\n",
    "print(\"Filtered DataFrame for within_range=False:\")\n",
    "print(filtered_df_1PM[['1PM_Cl2', 'within_range']])\n",
    "    "
   ]
  },
  {
   "attachments": {},
   "cell_type": "markdown",
   "metadata": {},
   "source": [
    "next:\n",
    "- figure out differences from ideal value\n",
    "- make formula to tell u how much Cl2 to add depending on the difference... \n",
    "-- diff = 0: none diff >0 : add xxx thiosulfate diff <0 : add xxx Cl2"
   ]
  },
  {
   "attachments": {},
   "cell_type": "markdown",
   "metadata": {},
   "source": []
  }
 ],
 "metadata": {
  "kernelspec": {
   "display_name": "Python 3",
   "language": "python",
   "name": "python3"
  },
  "language_info": {
   "codemirror_mode": {
    "name": "ipython",
    "version": 3
   },
   "file_extension": ".py",
   "mimetype": "text/x-python",
   "name": "python",
   "nbconvert_exporter": "python",
   "pygments_lexer": "ipython3",
   "version": "3.9.6"
  },
  "orig_nbformat": 4
 },
 "nbformat": 4,
 "nbformat_minor": 2
}
