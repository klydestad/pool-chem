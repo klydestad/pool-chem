{
 "cells": [
  {
   "cell_type": "markdown",
   "metadata": {},
   "source": [
    "# IMPORTING & WRANGLING DATA"
   ]
  },
  {
   "cell_type": "code",
   "execution_count": 196,
   "metadata": {},
   "outputs": [
    {
     "name": "stdout",
     "output_type": "stream",
     "text": [
      "[['\\ufeffDay', '9AM', '1PM'], ['1', '2.8', '1.6'], ['2', '3.1', '2.1'], ['3', '3.0', '0.4'], ['4', '1.8', '0.9'], ['5', '1.2', '0.1'], ['6', '2.0', '0.7'], ['7', '1.8', '0.2'], ['8', '1.9', '1.1'], ['9', '3.0', '0.6'], ['10', '1.5', '1.8'], ['11', '1.5', '1.0'], ['12', '2.1', '2.5'], ['13', '1.6', '0.3'], ['14', '1.7', '0.7'], ['15', '2.6', '1.8'], ['16', '2.9', '1.6'], ['17', '2.9', '0.7'], ['18', '2.4', '0.7'], ['19', '1.4', '1.4'], ['20', '1.3', '1.5'], ['21', '2.9', '1.8'], ['22', '2.8', '2.0'], ['23', '1.4', '3.0'], ['24', '1.0', '0.0'], ['25', '2.6', '0.2'], ['26', '2.8', '1.4'], ['27', '1.7', '2.1'], ['28', '1.1', '1.3'], ['29', '3.0', '0.7'], ['30', '1.1', '0.7'], ['31', '1.5', '0.1'], ['32', '1.7', '0.7'], ['33', '1.7', '0.2'], ['34', '2.0', '1.4'], ['35', '1.8', '1.0'], ['36', '2.3', '0.5'], ['37', '1.7', '0.7'], ['38', '2.9', '0.4'], ['39', '0.1', '0.9'], ['40', '2.2', '0.8'], ['41', '2.0', '1.2'], ['42', '1.2', '0.5'], ['43', '1.0', '0.9'], ['44', '1.5', '0.3'], ['45', '2.9', '1.5'], ['46', '2.5', '1.9'], ['47', '1.7', '0.7'], ['48', '3.0', '0.8'], ['49', '2.9', '2.7'], ['50', '2.4', '0.7'], ['51', '2.2', '1.1'], ['52', '1.9', '1.1'], ['53', '1.8', '0.2'], ['54', '1.2', '0.7'], ['55', '3.1', '2.0'], ['56', '2.8', '0.4'], ['57', '1.0', '0.1'], ['58', '1.7', '0.6'], ['59', '2.6', '1.7'], ['60', '2.7', '1.7'], ['61', '1.0', '1.4'], ['62', '1.7', '1.8'], ['63', '2.3', '0.6'], ['64', '1.4', '2.0'], ['65', '1.9', '1.6'], ['66', '3.0', '1.5'], ['67', '1.4', '0.1'], ['68', '2.8', '2.0'], ['69', '1.1', '0.5']]\n"
     ]
    }
   ],
   "source": [
    "# Import reader module from csv Library\n",
    "from csv import reader\n",
    "\n",
    "# read the CSV file\n",
    "def load_csv(filename):\n",
    "    # Open file in read mode\n",
    "    file = open(filename,\"r\")\n",
    "    # Reading file \n",
    "    lines = reader(file)\n",
    "    \n",
    "    # Converting into a list \n",
    "    data = list(lines)\n",
    "    return data\n",
    "\n",
    "if __name__ == \"__main__\":\n",
    "    # Path of the dataset\n",
    "    file_path = \"Pool_Chem_Analysis.csv\"\n",
    "    data = load_csv(file_path)\n",
    "    \n",
    "print(data)   "
   ]
  },
  {
   "cell_type": "code",
   "execution_count": 197,
   "metadata": {},
   "outputs": [
    {
     "name": "stdout",
     "output_type": "stream",
     "text": [
      "   9AM_Cl2 1PM_Cl2\n",
      "0      3.1     2.1\n",
      "1      3.0     0.4\n",
      "2      1.8     0.9\n",
      "3      1.2     0.1\n",
      "4      2.0     0.7\n",
      "..     ...     ...\n",
      "63     1.9     1.6\n",
      "64     3.0     1.5\n",
      "65     1.4     0.1\n",
      "66     2.8     2.0\n",
      "67     1.1     0.5\n",
      "\n",
      "[68 rows x 2 columns]\n",
      "9AM_Cl2    float64\n",
      "1PM_Cl2    float64\n",
      "dtype: object\n"
     ]
    }
   ],
   "source": [
    "# Wrangling data\n",
    "\n",
    "import pandas as pd\n",
    "df = pd.DataFrame(data)\n",
    "\n",
    "# Remove the first & second row\n",
    "df = df.drop(index=0)\n",
    "df = df.drop(index=1)\n",
    "\n",
    "# Remove the first column\n",
    "df = df.drop(df.columns[0], axis=1)\n",
    "\n",
    "# Reset index\n",
    "df = df.reset_index(drop=True)\n",
    "\n",
    "# Rename the columns\n",
    "df = df.rename(columns={1: '9AM_Cl2', 2: '1PM_Cl2'})\n",
    "print(df)\n",
    "\n",
    "# Change the data type of the 'Age' column to float\n",
    "df['9AM_Cl2'] = df['9AM_Cl2'].astype(float)\n",
    "df['1PM_Cl2'] = df['1PM_Cl2'].astype(float)\n",
    "\n",
    "\n",
    "# Inspect data types\n",
    "data_types = df.dtypes\n",
    "print(data_types)\n"
   ]
  },
  {
   "attachments": {},
   "cell_type": "markdown",
   "metadata": {},
   "source": [
    "# CHECKING WHETHER MEASUREMENTS ARE WITHIN RANGE"
   ]
  },
  {
   "cell_type": "markdown",
   "metadata": {},
   "source": [
    "Given a dataset, this determines which measurements are in/out of range."
   ]
  },
  {
   "cell_type": "code",
   "execution_count": 198,
   "metadata": {},
   "outputs": [],
   "source": [
    "def check_range(data_frame, column, min_val, max_val):\n",
    "    \"\"\"\n",
    "    Checks if each entry in a specified column of a data frame is within a specified numerical range.\n",
    "\n",
    "    Parameters:\n",
    "        data_frame (pd.DataFrame): The input data frame.\n",
    "        column (str): The name of the column to check.\n",
    "        min_val (float): The minimum value of the range.\n",
    "        max_val (float): The maximum value of the range.\n",
    "\n",
    "    Returns:\n",
    "        pd.DataFrame: A new data frame with the original column and an additional column 'within_range'\n",
    "                      indicating if each entry in the specified column is within the specified range.\n",
    "    \"\"\"\n",
    "    within_range = (data_frame[column] >= min_val) & (data_frame[column] <= max_val)\n",
    "    data_frame['within_range'] = within_range\n",
    "    return data_frame\n",
    "\n",
    "\n",
    "# Example usage:\n",
    "# Specify the numerical range\n",
    "min_val = 0.5\n",
    "max_val = 4.0"
   ]
  },
  {
   "cell_type": "markdown",
   "metadata": {},
   "source": [
    "Determining then showing which 9AM Cl2 values are within range:"
   ]
  },
  {
   "cell_type": "code",
   "execution_count": 199,
   "metadata": {},
   "outputs": [
    {
     "name": "stdout",
     "output_type": "stream",
     "text": [
      "    9AM_Cl2  within_range\n",
      "0       3.1          True\n",
      "1       3.0          True\n",
      "2       1.8          True\n",
      "3       1.2          True\n",
      "4       2.0          True\n",
      "..      ...           ...\n",
      "63      1.9          True\n",
      "64      3.0          True\n",
      "65      1.4          True\n",
      "66      2.8          True\n",
      "67      1.1          True\n",
      "\n",
      "[68 rows x 2 columns]\n",
      "Filtered DataFrame for within_range=True:\n",
      "    9AM_Cl2  within_range\n",
      "0       3.1          True\n",
      "1       3.0          True\n",
      "2       1.8          True\n",
      "3       1.2          True\n",
      "4       2.0          True\n",
      "..      ...           ...\n",
      "63      1.9          True\n",
      "64      3.0          True\n",
      "65      1.4          True\n",
      "66      2.8          True\n",
      "67      1.1          True\n",
      "\n",
      "[67 rows x 2 columns]\n"
     ]
    }
   ],
   "source": [
    "# 9AM CL2 VALUES WITHIN RANGE\n",
    "\n",
    "# Show the original column values next to True/False values\n",
    "df_result_9AM = check_range(df, '9AM_Cl2', min_val, max_val)\n",
    "print(df_result_9AM[['9AM_Cl2', 'within_range']])\n",
    "\n",
    "# Filter rows where within_range is True, for Chlorine levels at 9am\n",
    "filtered_df_9AM = df[df_result_9AM['within_range']]\n",
    "print(\"Filtered DataFrame for within_range=True:\")\n",
    "print(filtered_df_9AM[['9AM_Cl2', 'within_range']])"
   ]
  },
  {
   "cell_type": "markdown",
   "metadata": {},
   "source": [
    "Determining then showing which 1PM Cl2 values are NOT within range:"
   ]
  },
  {
   "cell_type": "code",
   "execution_count": 200,
   "metadata": {},
   "outputs": [
    {
     "name": "stdout",
     "output_type": "stream",
     "text": [
      "    1PM_Cl2  within_range\n",
      "0       2.1          True\n",
      "1       0.4         False\n",
      "2       0.9          True\n",
      "3       0.1         False\n",
      "4       0.7          True\n",
      "..      ...           ...\n",
      "63      1.6          True\n",
      "64      1.5          True\n",
      "65      0.1         False\n",
      "66      2.0          True\n",
      "67      0.5          True\n",
      "\n",
      "[68 rows x 2 columns]\n",
      "Filtered DataFrame for within_range=False:\n",
      "    1PM_Cl2  within_range\n",
      "1       0.4         False\n",
      "3       0.1         False\n",
      "5       0.2         False\n",
      "11      0.3         False\n",
      "22      0.0         False\n",
      "23      0.2         False\n",
      "29      0.1         False\n",
      "31      0.2         False\n",
      "36      0.4         False\n",
      "42      0.3         False\n",
      "51      0.2         False\n",
      "54      0.4         False\n",
      "55      0.1         False\n",
      "65      0.1         False\n"
     ]
    }
   ],
   "source": [
    "# 1PM CL2 VALUES NOT WITHIN RANGE\n",
    "\n",
    "# Show the original column values next to True/False values\n",
    "df_result_1PM = check_range(df, '1PM_Cl2', min_val, max_val)\n",
    "print(df_result_1PM[['1PM_Cl2', 'within_range']])\n",
    "\n",
    "# Filter rows where within_range is False, for Chlorine levels at 1pm\n",
    "filtered_df_1PM = df[~df_result_1PM['within_range']]\n",
    "print(\"Filtered DataFrame for within_range=False:\")\n",
    "print(filtered_df_1PM[['1PM_Cl2', 'within_range']])"
   ]
  },
  {
   "cell_type": "markdown",
   "metadata": {},
   "source": [
    "# DIFFERENCE BETWEEN OBSERVED VS. IDEAL LEVELS"
   ]
  },
  {
   "cell_type": "code",
   "execution_count": 201,
   "metadata": {},
   "outputs": [],
   "source": [
    "def find_diff(data_frame, column, ideal_val):\n",
    "    \"\"\"\n",
    "    Given a specified column of a data frame, calculates difference between entry and specified value.\n",
    "\n",
    "    Parameters:\n",
    "        data_frame (pd.DataFrame): The input data frame.\n",
    "        column (str): The name of the column to check.\n",
    "        ideal_val (float): The ideal value of the chemical.\n",
    "       \n",
    "\n",
    "    Returns:\n",
    "        pd.DataFrame: A new data frame with the original column and an additional column 'resultant_diff'\n",
    "                      indicating the difference between observed and ideal chemical levels..\n",
    "    \"\"\"\n",
    "    resultant_diff = (ideal_val - data_frame[column])\n",
    "    data_frame['resultant_diff'] = resultant_diff\n",
    "    return data_frame\n",
    "\n",
    "# Example usage:\n",
    "# Specify the numerical range\n",
    "ideal_val = 3.0\n"
   ]
  },
  {
   "cell_type": "code",
   "execution_count": 202,
   "metadata": {},
   "outputs": [
    {
     "name": "stdout",
     "output_type": "stream",
     "text": [
      "    9AM_Cl2  resultant_diff\n",
      "0       3.1            -0.1\n",
      "1       3.0             0.0\n",
      "2       1.8             1.2\n",
      "3       1.2             1.8\n",
      "4       2.0             1.0\n",
      "..      ...             ...\n",
      "63      1.9             1.1\n",
      "64      3.0             0.0\n",
      "65      1.4             1.6\n",
      "66      2.8             0.2\n",
      "67      1.1             1.9\n",
      "\n",
      "[68 rows x 2 columns]\n"
     ]
    }
   ],
   "source": [
    "df_result_9AM = find_diff(df, '9AM_Cl2', ideal_val)\n",
    "print(df_result_9AM[['9AM_Cl2', 'resultant_diff']])"
   ]
  },
  {
   "cell_type": "markdown",
   "metadata": {},
   "source": [
    "# CALCULATE WHAT & HOW MUCH OF IT TO ADD"
   ]
  },
  {
   "cell_type": "code",
   "execution_count": 203,
   "metadata": {},
   "outputs": [
    {
     "name": "stdout",
     "output_type": "stream",
     "text": [
      "   resultant_diff  calculated_addins\n",
      "0               3                  9\n",
      "1              -2                  4\n",
      "2               0                  0\n",
      "3               5                 15\n",
      "4              -4                  8\n"
     ]
    }
   ],
   "source": [
    "import pandas as pd\n",
    "\n",
    "def calculated_addins(data_frame, column, mult_val_neg, mult_val_pos):\n",
    "    \"\"\"\n",
    "    GENERAL: Given a specified column of a data frame, multiplies negative numbers by mult_val_neg and positive numbers by mult_val_pos\n",
    "    CONTEXTUAL: Using a data frame with the resultant_diff column, multiplies resultant_diff column by the appropriate mutliplier chemical depending\n",
    "    on if the difference is negative (too little Cl2, add sodium hypochlorite) or positive (too much Cl2, add thiosulfate)\n",
    "\n",
    "    Parameters:\n",
    "        data_frame (pd.DataFrame): The input data frame.\n",
    "        column (str): The name of the column to check.\n",
    "        mult_val_neg (float): The multiplier for negative values.\n",
    "        mult_val_pos (float): The multiplier for positive values.\n",
    "\n",
    "    Returns:\n",
    "        pd.DataFrame: A new data frame with the original column and an additional column 'calculated_addins'\n",
    "                      indicating the calculated additive values based on conditions.\n",
    "    \"\"\"\n",
    "    calculated_addins = []\n",
    "    for value in data_frame[column]:\n",
    "        if value < 0:\n",
    "            calculated_addins.append(abs(value) * mult_val_neg)\n",
    "        elif value > 0:\n",
    "            calculated_addins.append(value * mult_val_pos)\n",
    "        else:\n",
    "            calculated_addins.append(0)\n",
    "    data_frame['calculated_addins'] = calculated_addins\n",
    "    return data_frame\n",
    "\n",
    "# Example usage:\n",
    "# Create a sample DataFrame\n",
    "data = {'resultant_diff': [3, -2, 0, 5, -4]}\n",
    "df = pd.DataFrame(data)\n",
    "\n",
    "# Specify the multiplier values\n",
    "mult_val_neg = 2\n",
    "mult_val_pos = 3\n",
    "\n",
    "# Call the function\n",
    "result_df = calculated_addins(df, 'resultant_diff', mult_val_neg, mult_val_pos)\n",
    "print(result_df)\n"
   ]
  },
  {
   "cell_type": "code",
   "execution_count": 204,
   "metadata": {},
   "outputs": [
    {
     "name": "stdout",
     "output_type": "stream",
     "text": [
      "    9AM_Cl2  calculated_addins\n",
      "0       3.1                0.2\n",
      "1       3.0                0.0\n",
      "2       1.8                3.6\n",
      "3       1.2                5.4\n",
      "4       2.0                3.0\n",
      "..      ...                ...\n",
      "63      1.9                3.3\n",
      "64      3.0                0.0\n",
      "65      1.4                4.8\n",
      "66      2.8                0.6\n",
      "67      1.1                5.7\n",
      "\n",
      "[68 rows x 2 columns]\n"
     ]
    }
   ],
   "source": [
    "calculated_addins_9AM = calculated_addins(df_result_9AM, 'resultant_diff', mult_val_neg, mult_val_pos)\n",
    "print(calculated_addins_9AM[['9AM_Cl2', 'calculated_addins']])"
   ]
  },
 ],
 "metadata": {
  "kernelspec": {
   "display_name": "Python 3",
   "language": "python",
   "name": "python3"
  },
  "language_info": {
   "codemirror_mode": {
    "name": "ipython",
    "version": 3
   },
   "file_extension": ".py",
   "mimetype": "text/x-python",
   "name": "python",
   "nbconvert_exporter": "python",
   "pygments_lexer": "ipython3",
   "version": "3.9.6"
  },
  "orig_nbformat": 4
 },
 "nbformat": 4,
 "nbformat_minor": 2
}
